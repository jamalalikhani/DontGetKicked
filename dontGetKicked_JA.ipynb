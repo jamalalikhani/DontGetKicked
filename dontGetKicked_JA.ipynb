{
 "cells": [
  {
   "cell_type": "markdown",
   "metadata": {},
   "source": [
    "# \"Don't Get Kicked\": a classification practice\n",
    "**Jamal Alikhani**    \n",
    "jamal.alikhani@gmail.com    \n",
    "July 2017  \n",
    "\n",
    "Dealerships buy used cars in large scale to get benefit after reselling them to new customers. However, they sometimes mistakenly buy cars with major issues that prevent them from reselling these cars to customers, which is slanged as \"kicked\" cars.     \n",
    "\n",
    "The goal of this practice is to develop a predictive model that helps dealerships to detect “kicked” cars before purchasing them. For this reason, data are downloaded from kaggle.com competition called \"Don't get kicked\" as same as this report's title.    \n",
    "\n",
    "The dataset is uploaded to the Python3 environment, and after preprocessing and data cleaning phases, the scikit-learn tool has been used to provide three classification models based on logistic regression, bagging ensemble, and boosting ensemble approaches. The Python codes plus a short description is documented as below.    "
   ]
  },
  {
   "cell_type": "code",
   "execution_count": 2,
   "metadata": {
    "collapsed": true
   },
   "outputs": [],
   "source": [
    "import pandas as pd\n",
    "import numpy as np\n",
    "\n",
    "# classification metrics\n",
    "from sklearn.metrics import classification_report, confusion_matrix, accuracy_score \n",
    "\n",
    "# Selected classifiers\n",
    "from sklearn.linear_model import LogisticRegression\n",
    "from sklearn.ensemble import RandomForestClassifier \n",
    "from sklearn.ensemble import AdaBoostClassifier \n",
    "\n",
    "# Cross validation models\n",
    "from sklearn.preprocessing import LabelEncoder, normalize, OneHotEncoder\n",
    "from sklearn.pipeline import Pipeline\n",
    "from sklearn.model_selection import GridSearchCV, train_test_split, KFold, cross_val_score"
   ]
  },
  {
   "cell_type": "markdown",
   "metadata": {},
   "source": [
    "# Data Preparation\n",
    "## Loading the training dataset"
   ]
  },
  {
   "cell_type": "code",
   "execution_count": 3,
   "metadata": {
    "scrolled": true
   },
   "outputs": [
    {
     "name": "stdout",
     "output_type": "stream",
     "text": [
      "Origional size of the training set:  (72983, 34)\n"
     ]
    }
   ],
   "source": [
    "train = pd.read_csv(\"training.csv\")\n",
    "print(\"Origional size of the training set: \", train.shape)"
   ]
  },
  {
   "cell_type": "code",
   "execution_count": 4,
   "metadata": {},
   "outputs": [
    {
     "name": "stdout",
     "output_type": "stream",
     "text": [
      "A preview of training dataset prior data processing:\n"
     ]
    },
    {
     "data": {
      "text/html": [
       "<div>\n",
       "<table border=\"1\" class=\"dataframe\">\n",
       "  <thead>\n",
       "    <tr style=\"text-align: right;\">\n",
       "      <th></th>\n",
       "      <th>RefId</th>\n",
       "      <th>IsBadBuy</th>\n",
       "      <th>PurchDate</th>\n",
       "      <th>Auction</th>\n",
       "      <th>VehYear</th>\n",
       "      <th>VehicleAge</th>\n",
       "      <th>Make</th>\n",
       "      <th>Model</th>\n",
       "      <th>Trim</th>\n",
       "      <th>SubModel</th>\n",
       "      <th>Color</th>\n",
       "      <th>Transmission</th>\n",
       "      <th>WheelTypeID</th>\n",
       "      <th>WheelType</th>\n",
       "      <th>VehOdo</th>\n",
       "      <th>Nationality</th>\n",
       "      <th>Size</th>\n",
       "      <th>TopThreeAmericanName</th>\n",
       "      <th>MMRAcquisitionAuctionAveragePrice</th>\n",
       "      <th>MMRAcquisitionAuctionCleanPrice</th>\n",
       "      <th>MMRAcquisitionRetailAveragePrice</th>\n",
       "      <th>MMRAcquisitonRetailCleanPrice</th>\n",
       "      <th>MMRCurrentAuctionAveragePrice</th>\n",
       "      <th>MMRCurrentAuctionCleanPrice</th>\n",
       "      <th>MMRCurrentRetailAveragePrice</th>\n",
       "      <th>MMRCurrentRetailCleanPrice</th>\n",
       "      <th>PRIMEUNIT</th>\n",
       "      <th>AUCGUART</th>\n",
       "      <th>BYRNO</th>\n",
       "      <th>VNZIP1</th>\n",
       "      <th>VNST</th>\n",
       "      <th>VehBCost</th>\n",
       "      <th>IsOnlineSale</th>\n",
       "      <th>WarrantyCost</th>\n",
       "    </tr>\n",
       "  </thead>\n",
       "  <tbody>\n",
       "    <tr>\n",
       "      <th>0</th>\n",
       "      <td>1</td>\n",
       "      <td>0</td>\n",
       "      <td>12/7/2009</td>\n",
       "      <td>ADESA</td>\n",
       "      <td>2006</td>\n",
       "      <td>3</td>\n",
       "      <td>MAZDA</td>\n",
       "      <td>MAZDA3</td>\n",
       "      <td>i</td>\n",
       "      <td>4D SEDAN I</td>\n",
       "      <td>RED</td>\n",
       "      <td>AUTO</td>\n",
       "      <td>1</td>\n",
       "      <td>Alloy</td>\n",
       "      <td>89046</td>\n",
       "      <td>OTHER ASIAN</td>\n",
       "      <td>MEDIUM</td>\n",
       "      <td>OTHER</td>\n",
       "      <td>8155</td>\n",
       "      <td>9829</td>\n",
       "      <td>11636</td>\n",
       "      <td>13600</td>\n",
       "      <td>7451</td>\n",
       "      <td>8552</td>\n",
       "      <td>11597</td>\n",
       "      <td>12409</td>\n",
       "      <td>NaN</td>\n",
       "      <td>NaN</td>\n",
       "      <td>21973</td>\n",
       "      <td>33619</td>\n",
       "      <td>FL</td>\n",
       "      <td>7100</td>\n",
       "      <td>0</td>\n",
       "      <td>1113</td>\n",
       "    </tr>\n",
       "    <tr>\n",
       "      <th>1</th>\n",
       "      <td>2</td>\n",
       "      <td>0</td>\n",
       "      <td>12/7/2009</td>\n",
       "      <td>ADESA</td>\n",
       "      <td>2004</td>\n",
       "      <td>5</td>\n",
       "      <td>DODGE</td>\n",
       "      <td>1500 RAM PICKUP 2WD</td>\n",
       "      <td>ST</td>\n",
       "      <td>QUAD CAB 4.7L SLT</td>\n",
       "      <td>WHITE</td>\n",
       "      <td>AUTO</td>\n",
       "      <td>1</td>\n",
       "      <td>Alloy</td>\n",
       "      <td>93593</td>\n",
       "      <td>AMERICAN</td>\n",
       "      <td>LARGE TRUCK</td>\n",
       "      <td>CHRYSLER</td>\n",
       "      <td>6854</td>\n",
       "      <td>8383</td>\n",
       "      <td>10897</td>\n",
       "      <td>12572</td>\n",
       "      <td>7456</td>\n",
       "      <td>9222</td>\n",
       "      <td>11374</td>\n",
       "      <td>12791</td>\n",
       "      <td>NaN</td>\n",
       "      <td>NaN</td>\n",
       "      <td>19638</td>\n",
       "      <td>33619</td>\n",
       "      <td>FL</td>\n",
       "      <td>7600</td>\n",
       "      <td>0</td>\n",
       "      <td>1053</td>\n",
       "    </tr>\n",
       "    <tr>\n",
       "      <th>2</th>\n",
       "      <td>3</td>\n",
       "      <td>0</td>\n",
       "      <td>12/7/2009</td>\n",
       "      <td>ADESA</td>\n",
       "      <td>2005</td>\n",
       "      <td>4</td>\n",
       "      <td>DODGE</td>\n",
       "      <td>STRATUS V6</td>\n",
       "      <td>SXT</td>\n",
       "      <td>4D SEDAN SXT FFV</td>\n",
       "      <td>MAROON</td>\n",
       "      <td>AUTO</td>\n",
       "      <td>2</td>\n",
       "      <td>Covers</td>\n",
       "      <td>73807</td>\n",
       "      <td>AMERICAN</td>\n",
       "      <td>MEDIUM</td>\n",
       "      <td>CHRYSLER</td>\n",
       "      <td>3202</td>\n",
       "      <td>4760</td>\n",
       "      <td>6943</td>\n",
       "      <td>8457</td>\n",
       "      <td>4035</td>\n",
       "      <td>5557</td>\n",
       "      <td>7146</td>\n",
       "      <td>8702</td>\n",
       "      <td>NaN</td>\n",
       "      <td>NaN</td>\n",
       "      <td>19638</td>\n",
       "      <td>33619</td>\n",
       "      <td>FL</td>\n",
       "      <td>4900</td>\n",
       "      <td>0</td>\n",
       "      <td>1389</td>\n",
       "    </tr>\n",
       "    <tr>\n",
       "      <th>3</th>\n",
       "      <td>4</td>\n",
       "      <td>0</td>\n",
       "      <td>12/7/2009</td>\n",
       "      <td>ADESA</td>\n",
       "      <td>2004</td>\n",
       "      <td>5</td>\n",
       "      <td>DODGE</td>\n",
       "      <td>NEON</td>\n",
       "      <td>SXT</td>\n",
       "      <td>4D SEDAN</td>\n",
       "      <td>SILVER</td>\n",
       "      <td>AUTO</td>\n",
       "      <td>1</td>\n",
       "      <td>Alloy</td>\n",
       "      <td>65617</td>\n",
       "      <td>AMERICAN</td>\n",
       "      <td>COMPACT</td>\n",
       "      <td>CHRYSLER</td>\n",
       "      <td>1893</td>\n",
       "      <td>2675</td>\n",
       "      <td>4658</td>\n",
       "      <td>5690</td>\n",
       "      <td>1844</td>\n",
       "      <td>2646</td>\n",
       "      <td>4375</td>\n",
       "      <td>5518</td>\n",
       "      <td>NaN</td>\n",
       "      <td>NaN</td>\n",
       "      <td>19638</td>\n",
       "      <td>33619</td>\n",
       "      <td>FL</td>\n",
       "      <td>4100</td>\n",
       "      <td>0</td>\n",
       "      <td>630</td>\n",
       "    </tr>\n",
       "    <tr>\n",
       "      <th>4</th>\n",
       "      <td>5</td>\n",
       "      <td>0</td>\n",
       "      <td>12/7/2009</td>\n",
       "      <td>ADESA</td>\n",
       "      <td>2005</td>\n",
       "      <td>4</td>\n",
       "      <td>FORD</td>\n",
       "      <td>FOCUS</td>\n",
       "      <td>ZX3</td>\n",
       "      <td>2D COUPE ZX3</td>\n",
       "      <td>SILVER</td>\n",
       "      <td>MANUAL</td>\n",
       "      <td>2</td>\n",
       "      <td>Covers</td>\n",
       "      <td>69367</td>\n",
       "      <td>AMERICAN</td>\n",
       "      <td>COMPACT</td>\n",
       "      <td>FORD</td>\n",
       "      <td>3913</td>\n",
       "      <td>5054</td>\n",
       "      <td>7723</td>\n",
       "      <td>8707</td>\n",
       "      <td>3247</td>\n",
       "      <td>4384</td>\n",
       "      <td>6739</td>\n",
       "      <td>7911</td>\n",
       "      <td>NaN</td>\n",
       "      <td>NaN</td>\n",
       "      <td>19638</td>\n",
       "      <td>33619</td>\n",
       "      <td>FL</td>\n",
       "      <td>4000</td>\n",
       "      <td>0</td>\n",
       "      <td>1020</td>\n",
       "    </tr>\n",
       "  </tbody>\n",
       "</table>\n",
       "</div>"
      ],
      "text/plain": [
       "   RefId  IsBadBuy  PurchDate Auction  VehYear  VehicleAge   Make  \\\n",
       "0      1         0  12/7/2009   ADESA     2006           3  MAZDA   \n",
       "1      2         0  12/7/2009   ADESA     2004           5  DODGE   \n",
       "2      3         0  12/7/2009   ADESA     2005           4  DODGE   \n",
       "3      4         0  12/7/2009   ADESA     2004           5  DODGE   \n",
       "4      5         0  12/7/2009   ADESA     2005           4   FORD   \n",
       "\n",
       "                 Model Trim           SubModel   Color Transmission  \\\n",
       "0               MAZDA3    i         4D SEDAN I     RED         AUTO   \n",
       "1  1500 RAM PICKUP 2WD   ST  QUAD CAB 4.7L SLT   WHITE         AUTO   \n",
       "2           STRATUS V6  SXT   4D SEDAN SXT FFV  MAROON         AUTO   \n",
       "3                 NEON  SXT           4D SEDAN  SILVER         AUTO   \n",
       "4                FOCUS  ZX3       2D COUPE ZX3  SILVER       MANUAL   \n",
       "\n",
       "   WheelTypeID WheelType  VehOdo  Nationality         Size  \\\n",
       "0            1     Alloy   89046  OTHER ASIAN       MEDIUM   \n",
       "1            1     Alloy   93593     AMERICAN  LARGE TRUCK   \n",
       "2            2    Covers   73807     AMERICAN       MEDIUM   \n",
       "3            1     Alloy   65617     AMERICAN      COMPACT   \n",
       "4            2    Covers   69367     AMERICAN      COMPACT   \n",
       "\n",
       "  TopThreeAmericanName  MMRAcquisitionAuctionAveragePrice  \\\n",
       "0                OTHER                               8155   \n",
       "1             CHRYSLER                               6854   \n",
       "2             CHRYSLER                               3202   \n",
       "3             CHRYSLER                               1893   \n",
       "4                 FORD                               3913   \n",
       "\n",
       "   MMRAcquisitionAuctionCleanPrice  MMRAcquisitionRetailAveragePrice  \\\n",
       "0                             9829                             11636   \n",
       "1                             8383                             10897   \n",
       "2                             4760                              6943   \n",
       "3                             2675                              4658   \n",
       "4                             5054                              7723   \n",
       "\n",
       "   MMRAcquisitonRetailCleanPrice  MMRCurrentAuctionAveragePrice  \\\n",
       "0                          13600                           7451   \n",
       "1                          12572                           7456   \n",
       "2                           8457                           4035   \n",
       "3                           5690                           1844   \n",
       "4                           8707                           3247   \n",
       "\n",
       "   MMRCurrentAuctionCleanPrice  MMRCurrentRetailAveragePrice  \\\n",
       "0                         8552                         11597   \n",
       "1                         9222                         11374   \n",
       "2                         5557                          7146   \n",
       "3                         2646                          4375   \n",
       "4                         4384                          6739   \n",
       "\n",
       "   MMRCurrentRetailCleanPrice PRIMEUNIT AUCGUART  BYRNO  VNZIP1 VNST  \\\n",
       "0                       12409       NaN      NaN  21973   33619   FL   \n",
       "1                       12791       NaN      NaN  19638   33619   FL   \n",
       "2                        8702       NaN      NaN  19638   33619   FL   \n",
       "3                        5518       NaN      NaN  19638   33619   FL   \n",
       "4                        7911       NaN      NaN  19638   33619   FL   \n",
       "\n",
       "   VehBCost  IsOnlineSale  WarrantyCost  \n",
       "0      7100             0          1113  \n",
       "1      7600             0          1053  \n",
       "2      4900             0          1389  \n",
       "3      4100             0           630  \n",
       "4      4000             0          1020  "
      ]
     },
     "execution_count": 4,
     "metadata": {},
     "output_type": "execute_result"
    }
   ],
   "source": [
    "pd.set_option('display.max_columns', 50)\n",
    "print(\"A preview of training dataset prior data processing:\")\n",
    "train.head()"
   ]
  },
  {
   "cell_type": "markdown",
   "metadata": {},
   "source": [
    "#### Dropping redundant and none-informative attributes:\n",
    "\n",
    "The none informative attributes like IDs and dates, redundant attributes like zipcode and \"VehYear\" while \"VehicleAge\"     \n",
    "is provided with the same information, and attributes with none-atomic contents like \"Model\" and \"SubModel\" are dropped.     \n",
    "\n",
    "It should be pointed out that attributes with none-atomic members can be kept and their information can be retrieved by natural language processing techniques (like *nltk*). However, for this practice, they are just simply dropped out."
   ]
  },
  {
   "cell_type": "code",
   "execution_count": 5,
   "metadata": {
    "collapsed": true
   },
   "outputs": [],
   "source": [
    "# dropping none informative (redundant) attributes\n",
    "train.drop(['RefId', 'PurchDate', 'VehYear', 'WheelType', 'VNZIP1','SubModel', 'Model'], axis=1, inplace =True)"
   ]
  },
  {
   "cell_type": "markdown",
   "metadata": {},
   "source": [
    "#### Checking the number of missing data in each attribute:"
   ]
  },
  {
   "cell_type": "code",
   "execution_count": 6,
   "metadata": {},
   "outputs": [
    {
     "name": "stdout",
     "output_type": "stream",
     "text": [
      "Number of NA/NaNs in each attribute:\n"
     ]
    },
    {
     "data": {
      "text/plain": [
       "IsBadBuy                                 0\n",
       "Auction                                  0\n",
       "VehicleAge                               0\n",
       "Make                                     0\n",
       "Trim                                  2360\n",
       "Color                                    8\n",
       "Transmission                             9\n",
       "WheelTypeID                           3169\n",
       "VehOdo                                   0\n",
       "Nationality                              5\n",
       "Size                                     5\n",
       "TopThreeAmericanName                     5\n",
       "MMRAcquisitionAuctionAveragePrice       18\n",
       "MMRAcquisitionAuctionCleanPrice         18\n",
       "MMRAcquisitionRetailAveragePrice        18\n",
       "MMRAcquisitonRetailCleanPrice           18\n",
       "MMRCurrentAuctionAveragePrice          315\n",
       "MMRCurrentAuctionCleanPrice            315\n",
       "MMRCurrentRetailAveragePrice           315\n",
       "MMRCurrentRetailCleanPrice             315\n",
       "PRIMEUNIT                            69564\n",
       "AUCGUART                             69564\n",
       "BYRNO                                    0\n",
       "VNST                                     0\n",
       "VehBCost                                 0\n",
       "IsOnlineSale                             0\n",
       "WarrantyCost                             0\n",
       "dtype: int64"
      ]
     },
     "execution_count": 6,
     "metadata": {},
     "output_type": "execute_result"
    }
   ],
   "source": [
    "print('Number of NA/NaNs in each attribute:')\n",
    "train.isnull().sum(axis=0)"
   ]
  },
  {
   "cell_type": "markdown",
   "metadata": {},
   "source": [
    "#### Dropping the attributes with high number of missing values:"
   ]
  },
  {
   "cell_type": "code",
   "execution_count": 7,
   "metadata": {
    "collapsed": true
   },
   "outputs": [],
   "source": [
    "train.drop(['PRIMEUNIT', 'AUCGUART'], axis=1, inplace =True)"
   ]
  },
  {
   "cell_type": "markdown",
   "metadata": {},
   "source": [
    "The missing cells of 'WheelTypeID' and 'Trim' attributes are filled with some out-of-range values to keep around 3,200 rows. The classification algorithm can distinguish this out-of-range values in their model. For the rest of the missing value, the rows associated with each missing value is droppd."
   ]
  },
  {
   "cell_type": "code",
   "execution_count": 8,
   "metadata": {},
   "outputs": [
    {
     "name": "stdout",
     "output_type": "stream",
     "text": [
      "Size of training set after trimming:  (72658, 25)\n"
     ]
    }
   ],
   "source": [
    "train['WheelTypeID'].fillna(-99, axis=0, inplace=True)\n",
    "train['Trim'].fillna('?', axis=0, inplace=True)\n",
    "train.dropna(axis=0, inplace=True)\n",
    "print(\"Size of training set after trimming: \", train.shape)"
   ]
  },
  {
   "cell_type": "markdown",
   "metadata": {},
   "source": [
    "### One-hot encoding of categorical data to dymmy features: "
   ]
  },
  {
   "cell_type": "code",
   "execution_count": 14,
   "metadata": {
    "collapsed": true
   },
   "outputs": [],
   "source": [
    "dt = train['Auction'].dtypes \n",
    "for col in train.columns: \n",
    "    if str(train[col].dtypes) == 'object':  \n",
    "        train = pd.get_dummies(train, columns=[col])              "
   ]
  },
  {
   "cell_type": "code",
   "execution_count": 15,
   "metadata": {},
   "outputs": [
    {
     "name": "stdout",
     "output_type": "stream",
     "text": [
      "A preview of training dataset after data processing:\n"
     ]
    },
    {
     "data": {
      "text/html": [
       "<div>\n",
       "<table border=\"1\" class=\"dataframe\">\n",
       "  <thead>\n",
       "    <tr style=\"text-align: right;\">\n",
       "      <th></th>\n",
       "      <th>IsBadBuy</th>\n",
       "      <th>VehicleAge</th>\n",
       "      <th>WheelTypeID</th>\n",
       "      <th>VehOdo</th>\n",
       "      <th>MMRAcquisitionAuctionAveragePrice</th>\n",
       "      <th>MMRAcquisitionAuctionCleanPrice</th>\n",
       "      <th>MMRAcquisitionRetailAveragePrice</th>\n",
       "      <th>MMRAcquisitonRetailCleanPrice</th>\n",
       "      <th>MMRCurrentAuctionAveragePrice</th>\n",
       "      <th>MMRCurrentAuctionCleanPrice</th>\n",
       "      <th>MMRCurrentRetailAveragePrice</th>\n",
       "      <th>MMRCurrentRetailCleanPrice</th>\n",
       "      <th>BYRNO</th>\n",
       "      <th>VehBCost</th>\n",
       "      <th>IsOnlineSale</th>\n",
       "      <th>WarrantyCost</th>\n",
       "      <th>Auction_ADESA</th>\n",
       "      <th>Auction_MANHEIM</th>\n",
       "      <th>Auction_OTHER</th>\n",
       "      <th>Make_ACURA</th>\n",
       "      <th>Make_BUICK</th>\n",
       "      <th>Make_CADILLAC</th>\n",
       "      <th>Make_CHEVROLET</th>\n",
       "      <th>Make_CHRYSLER</th>\n",
       "      <th>Make_DODGE</th>\n",
       "      <th>...</th>\n",
       "      <th>VNST_LA</th>\n",
       "      <th>VNST_MA</th>\n",
       "      <th>VNST_MD</th>\n",
       "      <th>VNST_MI</th>\n",
       "      <th>VNST_MN</th>\n",
       "      <th>VNST_MO</th>\n",
       "      <th>VNST_MS</th>\n",
       "      <th>VNST_NC</th>\n",
       "      <th>VNST_NE</th>\n",
       "      <th>VNST_NH</th>\n",
       "      <th>VNST_NJ</th>\n",
       "      <th>VNST_NM</th>\n",
       "      <th>VNST_NV</th>\n",
       "      <th>VNST_NY</th>\n",
       "      <th>VNST_OH</th>\n",
       "      <th>VNST_OK</th>\n",
       "      <th>VNST_OR</th>\n",
       "      <th>VNST_PA</th>\n",
       "      <th>VNST_SC</th>\n",
       "      <th>VNST_TN</th>\n",
       "      <th>VNST_TX</th>\n",
       "      <th>VNST_UT</th>\n",
       "      <th>VNST_VA</th>\n",
       "      <th>VNST_WA</th>\n",
       "      <th>VNST_WV</th>\n",
       "    </tr>\n",
       "  </thead>\n",
       "  <tbody>\n",
       "    <tr>\n",
       "      <th>0</th>\n",
       "      <td>0</td>\n",
       "      <td>3</td>\n",
       "      <td>1</td>\n",
       "      <td>89046</td>\n",
       "      <td>8155</td>\n",
       "      <td>9829</td>\n",
       "      <td>11636</td>\n",
       "      <td>13600</td>\n",
       "      <td>7451</td>\n",
       "      <td>8552</td>\n",
       "      <td>11597</td>\n",
       "      <td>12409</td>\n",
       "      <td>21973</td>\n",
       "      <td>7100</td>\n",
       "      <td>0</td>\n",
       "      <td>1113</td>\n",
       "      <td>1</td>\n",
       "      <td>0</td>\n",
       "      <td>0</td>\n",
       "      <td>0</td>\n",
       "      <td>0</td>\n",
       "      <td>0</td>\n",
       "      <td>0</td>\n",
       "      <td>0</td>\n",
       "      <td>0</td>\n",
       "      <td>...</td>\n",
       "      <td>0</td>\n",
       "      <td>0</td>\n",
       "      <td>0</td>\n",
       "      <td>0</td>\n",
       "      <td>0</td>\n",
       "      <td>0</td>\n",
       "      <td>0</td>\n",
       "      <td>0</td>\n",
       "      <td>0</td>\n",
       "      <td>0</td>\n",
       "      <td>0</td>\n",
       "      <td>0</td>\n",
       "      <td>0</td>\n",
       "      <td>0</td>\n",
       "      <td>0</td>\n",
       "      <td>0</td>\n",
       "      <td>0</td>\n",
       "      <td>0</td>\n",
       "      <td>0</td>\n",
       "      <td>0</td>\n",
       "      <td>0</td>\n",
       "      <td>0</td>\n",
       "      <td>0</td>\n",
       "      <td>0</td>\n",
       "      <td>0</td>\n",
       "    </tr>\n",
       "    <tr>\n",
       "      <th>1</th>\n",
       "      <td>0</td>\n",
       "      <td>5</td>\n",
       "      <td>1</td>\n",
       "      <td>93593</td>\n",
       "      <td>6854</td>\n",
       "      <td>8383</td>\n",
       "      <td>10897</td>\n",
       "      <td>12572</td>\n",
       "      <td>7456</td>\n",
       "      <td>9222</td>\n",
       "      <td>11374</td>\n",
       "      <td>12791</td>\n",
       "      <td>19638</td>\n",
       "      <td>7600</td>\n",
       "      <td>0</td>\n",
       "      <td>1053</td>\n",
       "      <td>1</td>\n",
       "      <td>0</td>\n",
       "      <td>0</td>\n",
       "      <td>0</td>\n",
       "      <td>0</td>\n",
       "      <td>0</td>\n",
       "      <td>0</td>\n",
       "      <td>0</td>\n",
       "      <td>1</td>\n",
       "      <td>...</td>\n",
       "      <td>0</td>\n",
       "      <td>0</td>\n",
       "      <td>0</td>\n",
       "      <td>0</td>\n",
       "      <td>0</td>\n",
       "      <td>0</td>\n",
       "      <td>0</td>\n",
       "      <td>0</td>\n",
       "      <td>0</td>\n",
       "      <td>0</td>\n",
       "      <td>0</td>\n",
       "      <td>0</td>\n",
       "      <td>0</td>\n",
       "      <td>0</td>\n",
       "      <td>0</td>\n",
       "      <td>0</td>\n",
       "      <td>0</td>\n",
       "      <td>0</td>\n",
       "      <td>0</td>\n",
       "      <td>0</td>\n",
       "      <td>0</td>\n",
       "      <td>0</td>\n",
       "      <td>0</td>\n",
       "      <td>0</td>\n",
       "      <td>0</td>\n",
       "    </tr>\n",
       "    <tr>\n",
       "      <th>2</th>\n",
       "      <td>0</td>\n",
       "      <td>4</td>\n",
       "      <td>2</td>\n",
       "      <td>73807</td>\n",
       "      <td>3202</td>\n",
       "      <td>4760</td>\n",
       "      <td>6943</td>\n",
       "      <td>8457</td>\n",
       "      <td>4035</td>\n",
       "      <td>5557</td>\n",
       "      <td>7146</td>\n",
       "      <td>8702</td>\n",
       "      <td>19638</td>\n",
       "      <td>4900</td>\n",
       "      <td>0</td>\n",
       "      <td>1389</td>\n",
       "      <td>1</td>\n",
       "      <td>0</td>\n",
       "      <td>0</td>\n",
       "      <td>0</td>\n",
       "      <td>0</td>\n",
       "      <td>0</td>\n",
       "      <td>0</td>\n",
       "      <td>0</td>\n",
       "      <td>1</td>\n",
       "      <td>...</td>\n",
       "      <td>0</td>\n",
       "      <td>0</td>\n",
       "      <td>0</td>\n",
       "      <td>0</td>\n",
       "      <td>0</td>\n",
       "      <td>0</td>\n",
       "      <td>0</td>\n",
       "      <td>0</td>\n",
       "      <td>0</td>\n",
       "      <td>0</td>\n",
       "      <td>0</td>\n",
       "      <td>0</td>\n",
       "      <td>0</td>\n",
       "      <td>0</td>\n",
       "      <td>0</td>\n",
       "      <td>0</td>\n",
       "      <td>0</td>\n",
       "      <td>0</td>\n",
       "      <td>0</td>\n",
       "      <td>0</td>\n",
       "      <td>0</td>\n",
       "      <td>0</td>\n",
       "      <td>0</td>\n",
       "      <td>0</td>\n",
       "      <td>0</td>\n",
       "    </tr>\n",
       "    <tr>\n",
       "      <th>3</th>\n",
       "      <td>0</td>\n",
       "      <td>5</td>\n",
       "      <td>1</td>\n",
       "      <td>65617</td>\n",
       "      <td>1893</td>\n",
       "      <td>2675</td>\n",
       "      <td>4658</td>\n",
       "      <td>5690</td>\n",
       "      <td>1844</td>\n",
       "      <td>2646</td>\n",
       "      <td>4375</td>\n",
       "      <td>5518</td>\n",
       "      <td>19638</td>\n",
       "      <td>4100</td>\n",
       "      <td>0</td>\n",
       "      <td>630</td>\n",
       "      <td>1</td>\n",
       "      <td>0</td>\n",
       "      <td>0</td>\n",
       "      <td>0</td>\n",
       "      <td>0</td>\n",
       "      <td>0</td>\n",
       "      <td>0</td>\n",
       "      <td>0</td>\n",
       "      <td>1</td>\n",
       "      <td>...</td>\n",
       "      <td>0</td>\n",
       "      <td>0</td>\n",
       "      <td>0</td>\n",
       "      <td>0</td>\n",
       "      <td>0</td>\n",
       "      <td>0</td>\n",
       "      <td>0</td>\n",
       "      <td>0</td>\n",
       "      <td>0</td>\n",
       "      <td>0</td>\n",
       "      <td>0</td>\n",
       "      <td>0</td>\n",
       "      <td>0</td>\n",
       "      <td>0</td>\n",
       "      <td>0</td>\n",
       "      <td>0</td>\n",
       "      <td>0</td>\n",
       "      <td>0</td>\n",
       "      <td>0</td>\n",
       "      <td>0</td>\n",
       "      <td>0</td>\n",
       "      <td>0</td>\n",
       "      <td>0</td>\n",
       "      <td>0</td>\n",
       "      <td>0</td>\n",
       "    </tr>\n",
       "    <tr>\n",
       "      <th>4</th>\n",
       "      <td>0</td>\n",
       "      <td>4</td>\n",
       "      <td>2</td>\n",
       "      <td>69367</td>\n",
       "      <td>3913</td>\n",
       "      <td>5054</td>\n",
       "      <td>7723</td>\n",
       "      <td>8707</td>\n",
       "      <td>3247</td>\n",
       "      <td>4384</td>\n",
       "      <td>6739</td>\n",
       "      <td>7911</td>\n",
       "      <td>19638</td>\n",
       "      <td>4000</td>\n",
       "      <td>0</td>\n",
       "      <td>1020</td>\n",
       "      <td>1</td>\n",
       "      <td>0</td>\n",
       "      <td>0</td>\n",
       "      <td>0</td>\n",
       "      <td>0</td>\n",
       "      <td>0</td>\n",
       "      <td>0</td>\n",
       "      <td>0</td>\n",
       "      <td>0</td>\n",
       "      <td>...</td>\n",
       "      <td>0</td>\n",
       "      <td>0</td>\n",
       "      <td>0</td>\n",
       "      <td>0</td>\n",
       "      <td>0</td>\n",
       "      <td>0</td>\n",
       "      <td>0</td>\n",
       "      <td>0</td>\n",
       "      <td>0</td>\n",
       "      <td>0</td>\n",
       "      <td>0</td>\n",
       "      <td>0</td>\n",
       "      <td>0</td>\n",
       "      <td>0</td>\n",
       "      <td>0</td>\n",
       "      <td>0</td>\n",
       "      <td>0</td>\n",
       "      <td>0</td>\n",
       "      <td>0</td>\n",
       "      <td>0</td>\n",
       "      <td>0</td>\n",
       "      <td>0</td>\n",
       "      <td>0</td>\n",
       "      <td>0</td>\n",
       "      <td>0</td>\n",
       "    </tr>\n",
       "  </tbody>\n",
       "</table>\n",
       "<p>5 rows × 263 columns</p>\n",
       "</div>"
      ],
      "text/plain": [
       "   IsBadBuy  VehicleAge  WheelTypeID  VehOdo  \\\n",
       "0         0           3            1   89046   \n",
       "1         0           5            1   93593   \n",
       "2         0           4            2   73807   \n",
       "3         0           5            1   65617   \n",
       "4         0           4            2   69367   \n",
       "\n",
       "   MMRAcquisitionAuctionAveragePrice  MMRAcquisitionAuctionCleanPrice  \\\n",
       "0                               8155                             9829   \n",
       "1                               6854                             8383   \n",
       "2                               3202                             4760   \n",
       "3                               1893                             2675   \n",
       "4                               3913                             5054   \n",
       "\n",
       "   MMRAcquisitionRetailAveragePrice  MMRAcquisitonRetailCleanPrice  \\\n",
       "0                             11636                          13600   \n",
       "1                             10897                          12572   \n",
       "2                              6943                           8457   \n",
       "3                              4658                           5690   \n",
       "4                              7723                           8707   \n",
       "\n",
       "   MMRCurrentAuctionAveragePrice  MMRCurrentAuctionCleanPrice  \\\n",
       "0                           7451                         8552   \n",
       "1                           7456                         9222   \n",
       "2                           4035                         5557   \n",
       "3                           1844                         2646   \n",
       "4                           3247                         4384   \n",
       "\n",
       "   MMRCurrentRetailAveragePrice  MMRCurrentRetailCleanPrice  BYRNO  VehBCost  \\\n",
       "0                         11597                       12409  21973      7100   \n",
       "1                         11374                       12791  19638      7600   \n",
       "2                          7146                        8702  19638      4900   \n",
       "3                          4375                        5518  19638      4100   \n",
       "4                          6739                        7911  19638      4000   \n",
       "\n",
       "   IsOnlineSale  WarrantyCost  Auction_ADESA  Auction_MANHEIM  Auction_OTHER  \\\n",
       "0             0          1113              1                0              0   \n",
       "1             0          1053              1                0              0   \n",
       "2             0          1389              1                0              0   \n",
       "3             0           630              1                0              0   \n",
       "4             0          1020              1                0              0   \n",
       "\n",
       "   Make_ACURA  Make_BUICK  Make_CADILLAC  Make_CHEVROLET  Make_CHRYSLER  \\\n",
       "0           0           0              0               0              0   \n",
       "1           0           0              0               0              0   \n",
       "2           0           0              0               0              0   \n",
       "3           0           0              0               0              0   \n",
       "4           0           0              0               0              0   \n",
       "\n",
       "   Make_DODGE   ...     VNST_LA  VNST_MA  VNST_MD  VNST_MI  VNST_MN  VNST_MO  \\\n",
       "0           0   ...           0        0        0        0        0        0   \n",
       "1           1   ...           0        0        0        0        0        0   \n",
       "2           1   ...           0        0        0        0        0        0   \n",
       "3           1   ...           0        0        0        0        0        0   \n",
       "4           0   ...           0        0        0        0        0        0   \n",
       "\n",
       "   VNST_MS  VNST_NC  VNST_NE  VNST_NH  VNST_NJ  VNST_NM  VNST_NV  VNST_NY  \\\n",
       "0        0        0        0        0        0        0        0        0   \n",
       "1        0        0        0        0        0        0        0        0   \n",
       "2        0        0        0        0        0        0        0        0   \n",
       "3        0        0        0        0        0        0        0        0   \n",
       "4        0        0        0        0        0        0        0        0   \n",
       "\n",
       "   VNST_OH  VNST_OK  VNST_OR  VNST_PA  VNST_SC  VNST_TN  VNST_TX  VNST_UT  \\\n",
       "0        0        0        0        0        0        0        0        0   \n",
       "1        0        0        0        0        0        0        0        0   \n",
       "2        0        0        0        0        0        0        0        0   \n",
       "3        0        0        0        0        0        0        0        0   \n",
       "4        0        0        0        0        0        0        0        0   \n",
       "\n",
       "   VNST_VA  VNST_WA  VNST_WV  \n",
       "0        0        0        0  \n",
       "1        0        0        0  \n",
       "2        0        0        0  \n",
       "3        0        0        0  \n",
       "4        0        0        0  \n",
       "\n",
       "[5 rows x 263 columns]"
      ]
     },
     "execution_count": 15,
     "metadata": {},
     "output_type": "execute_result"
    }
   ],
   "source": [
    "print(\"A preview of training dataset after data processing:\")\n",
    "train.head()"
   ]
  },
  {
   "cell_type": "markdown",
   "metadata": {},
   "source": [
    "### Splitting label attribute from training set"
   ]
  },
  {
   "cell_type": "code",
   "execution_count": 16,
   "metadata": {
    "collapsed": true
   },
   "outputs": [],
   "source": [
    "train = np.array(train,dtype='float')\n",
    "X = train[:,1:]\n",
    "y = train[:,0]\n",
    "seed = 7\n",
    "X_train, X_test, y_train, y_test = train_test_split(X, y, test_size=0.33, random_state=seed)"
   ]
  },
  {
   "cell_type": "markdown",
   "metadata": {},
   "source": [
    "# Classification\n",
    "\n",
    "In this practice, we are facing with an unbalanced labeled dataset where class \"0\" are 87.7% and class \"1\" (kicks) are just 12.3%! This makes the classification training phase tricky because the accuracy of random selection is already a high value (87.7%). Therefore, accuracy is not a proper metric for this case to be evaluated. \n",
    "\n",
    "The important part of the model prediction is to reduce the number of kicked cars. Therefore, we have to increase the rate of true negative (TN) while decreasing the false negative (FN) rates. By looking at *precision*, *recall*, *F1-score*, and *Area under the ROC curve (ROC-AUC)* we can get a better insight into the classification performance."
   ]
  },
  {
   "cell_type": "code",
   "execution_count": 17,
   "metadata": {},
   "outputs": [
    {
     "name": "stdout",
     "output_type": "stream",
     "text": [
      "Ratio of class 1 to class 0 in the training set:\n"
     ]
    },
    {
     "data": {
      "text/plain": [
       "0.123"
      ]
     },
     "execution_count": 17,
     "metadata": {},
     "output_type": "execute_result"
    }
   ],
   "source": [
    "print(\"Ratio of class 1 to class 0 in the training set:\")\n",
    "np.round(np.mean(y), 3)"
   ]
  },
  {
   "cell_type": "markdown",
   "metadata": {},
   "source": [
    "### *k*-fold cross validation model for classification training score"
   ]
  },
  {
   "cell_type": "code",
   "execution_count": 18,
   "metadata": {
    "collapsed": true
   },
   "outputs": [],
   "source": [
    "kfold = KFold(n_splits=10, shuffle=True, random_state=seed)"
   ]
  },
  {
   "cell_type": "markdown",
   "metadata": {},
   "source": [
    "\n",
    "## Logistic Regression\n",
    "To overrcome the unbalanced lables, the “balanced” mode is activated for equally weighting the binary classes in the calculation of the loss function. The balanced mode automatically adjusts weights inversely proportional to class frequencies in the input data as:    \n",
    "                                  `n_samples / (n_classes * np.bincount(y))`"
   ]
  },
  {
   "cell_type": "code",
   "execution_count": 19,
   "metadata": {},
   "outputs": [
    {
     "name": "stdout",
     "output_type": "stream",
     "text": [
      "Logistic Regression, f1 : 0.366, (std: 0.00957)\n"
     ]
    }
   ],
   "source": [
    "clf = LogisticRegression(class_weight='balanced')\n",
    "\n",
    "scoring = 'f1'\n",
    "results = cross_val_score(clf, X, y, cv=kfold, scoring=scoring, n_jobs=-1)\n",
    "print(\"Logistic Regression,\",scoring, \": {0:.3}, (std: {1:.3})\".format(results.mean(), results.std()))"
   ]
  },
  {
   "cell_type": "code",
   "execution_count": 20,
   "metadata": {},
   "outputs": [
    {
     "name": "stdout",
     "output_type": "stream",
     "text": [
      "Logistic Regression, roc_auc : 0.755, (std: 0.00815)\n"
     ]
    }
   ],
   "source": [
    "scoring = 'roc_auc'\n",
    "results = cross_val_score(clf, X, y, cv=kfold, scoring=scoring, n_jobs=-1)\n",
    "print(\"Logistic Regression,\",scoring, \": {0:.3}, (std: {1:.3})\".format(results.mean(), results.std()))"
   ]
  },
  {
   "cell_type": "code",
   "execution_count": 21,
   "metadata": {},
   "outputs": [
    {
     "name": "stdout",
     "output_type": "stream",
     "text": [
      "Logistic Regression, confusion matrix: \n",
      "[[16068  4962]\n",
      " [ 1167  1781]]\n"
     ]
    }
   ],
   "source": [
    "clf.fit(X_train, y_train)\n",
    "y_pred = clf.predict(X_test)\n",
    "\n",
    "conf_mat = confusion_matrix(y_test, y_pred)\n",
    "print(\"Logistic Regression, confusion matrix: \")\n",
    "print(conf_mat)"
   ]
  },
  {
   "cell_type": "code",
   "execution_count": 22,
   "metadata": {},
   "outputs": [
    {
     "name": "stdout",
     "output_type": "stream",
     "text": [
      "Logistic Regression, accuracy: 74.4%\n"
     ]
    }
   ],
   "source": [
    "acc = accuracy_score(y_test, y_pred)\n",
    "print(\"Logistic Regression, accuracy: {0:.1%}\".format(acc))"
   ]
  },
  {
   "cell_type": "code",
   "execution_count": 23,
   "metadata": {},
   "outputs": [
    {
     "name": "stdout",
     "output_type": "stream",
     "text": [
      "Logistic Regression, summary report: \n",
      "             precision    recall  f1-score   support\n",
      "\n",
      "        0.0       0.93      0.76      0.84     21030\n",
      "        1.0       0.26      0.60      0.37      2948\n",
      "\n",
      "avg / total       0.85      0.74      0.78     23978\n",
      "\n"
     ]
    }
   ],
   "source": [
    "print(\"Logistic Regression, summary report: \")\n",
    "print(classification_report(y_test, y_pred))"
   ]
  },
  {
   "cell_type": "markdown",
   "metadata": {},
   "source": [
    "f1-score and ROC-AUC metrics show reasonably good results for the first try, regardless of seemingly low accuracy of 75.5%! It is already mentioned that accuracy is not a good measure for this case. Values in the confusion matrix show that model was able to correctly predict the 58% of cars with major issues.  "
   ]
  },
  {
   "cell_type": "markdown",
   "metadata": {},
   "source": [
    "##  Random Forest Classifier\n",
    "Random forest classifier uses bagging technique to construct many parallel decision trees over bootstrapped resampling of the training dataset to reduce the variance. Presence of several categorial attributes (like \"Transmission\" and \"WheelTypeID\") makes it suitable to apply decision tree as the base classifier. \n",
    "\n",
    "To overcome the overfitting in the decision tree, a kfold cross validation technique over a grid search is applied to find the optimum depth of the trees. It is shown that 7 is the optimum depth."
   ]
  },
  {
   "cell_type": "code",
   "execution_count": 24,
   "metadata": {},
   "outputs": [
    {
     "name": "stdout",
     "output_type": "stream",
     "text": [
      "Random Forest Classifier, Grid Search result:\n",
      "   n_depth  f1_score\n",
      "0        2  0.287530\n",
      "1        5  0.310161\n",
      "2        7  0.332633\n",
      "3       10  0.339482\n",
      "4       15  0.348165\n",
      "5       20  0.329425\n"
     ]
    }
   ],
   "source": [
    "# Random Forest Classifier\n",
    "n_depth = [2, 5, 7, 10, 15, 20]\n",
    "\n",
    "pipeline_estimator = Pipeline([('clf', RandomForestClassifier(class_weight='balanced'))])\n",
    "\n",
    "params = [{'clf__max_depth': n_depth}]\n",
    "\n",
    "grid = GridSearchCV(estimator=pipeline_estimator, param_grid=params, scoring='f1', cv=3, n_jobs=-1)\n",
    "\n",
    "grid.fit(X, y)\n",
    "mean_scores = np.array(grid.cv_results_['mean_test_score'])\n",
    "reults_df = pd.DataFrame()\n",
    "reults_df['n_depth'] = n_depth\n",
    "reults_df['f1_score'] = mean_scores\n",
    "print(\"Random Forest Classifier, Grid Search result:\")\n",
    "print(reults_df)"
   ]
  },
  {
   "cell_type": "code",
   "execution_count": 25,
   "metadata": {},
   "outputs": [
    {
     "name": "stdout",
     "output_type": "stream",
     "text": [
      "Random Forest Classifier, roc_auc : 0.761, (std: 0.00557)\n"
     ]
    }
   ],
   "source": [
    "opt_depth = n_depth[np.argmax(mean_scores)]\n",
    "clf = RandomForestClassifier(max_depth=opt_depth, n_estimators=100, class_weight='balanced')\n",
    "\n",
    "scoring = 'roc_auc'\n",
    "results = cross_val_score(clf, X, y, cv=kfold, scoring=scoring, n_jobs=-1)\n",
    "print(\"Random Forest Classifier,\",scoring, \": {0:.3}, (std: {1:.3})\".format(results.mean(), results.std()))"
   ]
  },
  {
   "cell_type": "code",
   "execution_count": 26,
   "metadata": {},
   "outputs": [
    {
     "name": "stdout",
     "output_type": "stream",
     "text": [
      "Random Forest Classifier, confusion matrix: \n",
      "[[18711  2319]\n",
      " [ 1664  1284]]\n"
     ]
    }
   ],
   "source": [
    "clf.fit(X_train, y_train)\n",
    "y_pred = clf.predict(X_test)\n",
    "\n",
    "conf_mat = confusion_matrix(y_test, y_pred)\n",
    "print(\"Random Forest Classifier, confusion matrix: \")\n",
    "print(conf_mat)"
   ]
  },
  {
   "cell_type": "code",
   "execution_count": 27,
   "metadata": {},
   "outputs": [
    {
     "name": "stdout",
     "output_type": "stream",
     "text": [
      "Random Forest Classifier, accuracy: 83.4%\n"
     ]
    }
   ],
   "source": [
    "acc = accuracy_score(y_test, y_pred)\n",
    "print(\"Random Forest Classifier, accuracy: {0:.1%}\".format(acc))"
   ]
  },
  {
   "cell_type": "code",
   "execution_count": 28,
   "metadata": {},
   "outputs": [
    {
     "name": "stdout",
     "output_type": "stream",
     "text": [
      "Random Forest Classifier, summary report: \n",
      "             precision    recall  f1-score   support\n",
      "\n",
      "        0.0       0.92      0.89      0.90     21030\n",
      "        1.0       0.36      0.44      0.39      2948\n",
      "\n",
      "avg / total       0.85      0.83      0.84     23978\n",
      "\n"
     ]
    }
   ],
   "source": [
    "print(\"Random Forest Classifier, summary report: \")\n",
    "print(classification_report(y_test, y_pred))"
   ]
  },
  {
   "cell_type": "markdown",
   "metadata": {},
   "source": [
    "Both the ROC-AUC factor (0.761) and overal f1-score (0.82) are slightly better than the results obtained from logistic regression. However, just by looking at the TN rate (recall) from the confusion matrix, logistic regression finds a higher value of 58% compared to the 51% obtained by the Random Forest."
   ]
  },
  {
   "cell_type": "markdown",
   "metadata": {},
   "source": [
    "## AdaBoost Classifier\n",
    "AdaBoost is an adaptive boosting ensemble that collects many weak classifiers into a strong classifier. Similar to the Random Forest, a decision tree is again used as the base classifier. \n",
    "\n",
    "Since in the scikit-learn package this algorithm does not support the weighted classes, the majority class is \"down-sampled\" to get a size equal to the minority class. Afterward, the balanced subsamples of the training data is fed into the model training phase of the AdaBoost. "
   ]
  },
  {
   "cell_type": "code",
   "execution_count": 29,
   "metadata": {
    "collapsed": true
   },
   "outputs": [],
   "source": [
    "Xt_c1 = X_train[y_train==1] \n",
    "yt_c1 = y_train[y_train==1] \n",
    "\n",
    "Xt_c0 = X_train[y_train==0] \n",
    "yt_c0 = y_train[y_train==0]\n",
    "Xt_c0 = Xt_c0[:Xt_c1.shape[0],:]\n",
    "yt_c0 = yt_c0[:Xt_c1.shape[0]]\n",
    "\n",
    "X_train_balanced = np.concatenate((Xt_c0, Xt_c1), axis=0)\n",
    "y_train_balanced = np.concatenate((yt_c0, yt_c1), axis=0)"
   ]
  },
  {
   "cell_type": "code",
   "execution_count": 30,
   "metadata": {},
   "outputs": [
    {
     "name": "stdout",
     "output_type": "stream",
     "text": [
      "AdaBoost Classifier, f1 : 0.66, (std: 0.0171)\n"
     ]
    }
   ],
   "source": [
    "clf = AdaBoostClassifier(n_estimators=100, random_state=seed)\n",
    "\n",
    "scoring = 'f1'\n",
    "results = cross_val_score(clf, X_train_balanced, y_train_balanced, cv=kfold, scoring=scoring, n_jobs=-1)\n",
    "print(\"AdaBoost Classifier,\",scoring, \": {0:.3}, (std: {1:.3})\".format(results.mean(), results.std()))"
   ]
  },
  {
   "cell_type": "code",
   "execution_count": 31,
   "metadata": {},
   "outputs": [
    {
     "name": "stdout",
     "output_type": "stream",
     "text": [
      "AdaBoost Classifier, roc_auc : 0.754, (std: 0.0118)\n"
     ]
    }
   ],
   "source": [
    "scoring = 'roc_auc'\n",
    "results = cross_val_score(clf, X_train_balanced, y_train_balanced, cv=kfold, scoring=scoring, n_jobs=-1)\n",
    "print(\"AdaBoost Classifier,\",scoring, \": {0:.3}, (std: {1:.3})\".format(results.mean(), results.std()))"
   ]
  },
  {
   "cell_type": "code",
   "execution_count": 32,
   "metadata": {},
   "outputs": [
    {
     "name": "stdout",
     "output_type": "stream",
     "text": [
      "AdaBoost Classifier, confusion matrix: \n",
      "[[15340  5690]\n",
      " [ 1115  1833]]\n"
     ]
    }
   ],
   "source": [
    "clf.fit(X_train_balanced, y_train_balanced)\n",
    "y_pred = clf.predict(X_test)\n",
    "\n",
    "conf_mat = confusion_matrix(y_test, y_pred)\n",
    "print(\"AdaBoost Classifier, confusion matrix: \")\n",
    "print(conf_mat)"
   ]
  },
  {
   "cell_type": "code",
   "execution_count": 33,
   "metadata": {},
   "outputs": [
    {
     "name": "stdout",
     "output_type": "stream",
     "text": [
      "AdaBoost Classifier, accuracy: 71.6%\n"
     ]
    }
   ],
   "source": [
    "acc = accuracy_score(y_test, y_pred)\n",
    "print(\"AdaBoost Classifier, accuracy: {0:.1%}\".format(acc))"
   ]
  },
  {
   "cell_type": "code",
   "execution_count": 34,
   "metadata": {},
   "outputs": [
    {
     "name": "stdout",
     "output_type": "stream",
     "text": [
      "AdaBoost Classifier, summary report: \n",
      "             precision    recall  f1-score   support\n",
      "\n",
      "        0.0       0.93      0.73      0.82     21030\n",
      "        1.0       0.24      0.62      0.35      2948\n",
      "\n",
      "avg / total       0.85      0.72      0.76     23978\n",
      "\n"
     ]
    }
   ],
   "source": [
    "print(\"AdaBoost Classifier, summary report: \")\n",
    "print(classification_report(y_test, y_pred))"
   ]
  },
  {
   "cell_type": "markdown",
   "metadata": {},
   "source": [
    "The AdaBoost performs better in recall percentage compare to other two clasiifiers. The f1-score and the ROC-AUC are just slightly lower than random forest. "
   ]
  },
  {
   "cell_type": "markdown",
   "metadata": {},
   "source": [
    "# Conclusion\n",
    "\n",
    "Three classification models are applied to predict the cars with major issues referred to as kicked cars:\n",
    "\n",
    "|classifier| recall over kicked cars | overall f1-score |\n",
    "|---------|-------|---------|\n",
    "|Logistic Regression|0.60|0.78|\n",
    "|Random Forest|0.44|0.84|\n",
    "|AdaBoost|0.62|0.76|\n",
    "\n",
    "It is concluded that the accuracy is a poor metric to evaluate the model performance due to the heavily unbalanced labels in the binary classes. True negative classification rate or \"Recall\" is considered to be a target model performance. The TN prevents car dealerships from purchasing a kicked. On the other hand, there is a trade-off between the recall and the precision, as when the rate of false negative (FN) increases, the company loses the opportunity to purchase a good car that could potentially benefit the company. The financial objective function can be constructed as:\n",
    "\n",
    "                             total_profit = (TP-FN)*benefit + (FP-TN)*Loss\n",
    "\n",
    "where *benefit* and *loss* are the positive and negative benefit from each good and bad car, respectively. By maximizing this objective function, the optimum trade-off between the FN and TN rates can be obtained and then a best predictive model can be selected and trained. \n",
    "\n",
    "Other classifications can also be tested and may perform better in this case.\n"
   ]
  }
 ],
 "metadata": {
  "kernelspec": {
   "display_name": "Python 3",
   "language": "python",
   "name": "python3"
  },
  "language_info": {
   "codemirror_mode": {
    "name": "ipython",
    "version": 3
   },
   "file_extension": ".py",
   "mimetype": "text/x-python",
   "name": "python",
   "nbconvert_exporter": "python",
   "pygments_lexer": "ipython3",
   "version": "3.5.2+"
  }
 },
 "nbformat": 4,
 "nbformat_minor": 2
}
